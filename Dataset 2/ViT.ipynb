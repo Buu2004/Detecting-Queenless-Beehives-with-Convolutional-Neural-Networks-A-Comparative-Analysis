{
 "cells": [
  {
   "cell_type": "code",
   "execution_count": null,
   "metadata": {
    "execution": {
     "iopub.execute_input": "2024-07-12T03:28:21.650769Z",
     "iopub.status.busy": "2024-07-12T03:28:21.650465Z",
     "iopub.status.idle": "2024-07-12T03:28:21.662447Z",
     "shell.execute_reply": "2024-07-12T03:28:21.661594Z",
     "shell.execute_reply.started": "2024-07-12T03:28:21.650744Z"
    },
    "trusted": true
   },
   "outputs": [],
   "source": [
    "import numpy as np\n",
    "import pandas as pd\n",
    "from sklearn.model_selection import train_test_split\n",
    "\n",
    "import torch\n",
    "import torch.nn as nn\n",
    "import torch.optim as optim\n",
    "from torchvision import transforms\n",
    "from torch.utils.data import DataLoader, Dataset\n",
    "import numpy as np\n",
    "from tqdm import tqdm"
   ]
  },
  {
   "cell_type": "code",
   "execution_count": null,
   "metadata": {
    "execution": {
     "iopub.execute_input": "2024-07-12T03:28:21.812931Z",
     "iopub.status.busy": "2024-07-12T03:28:21.812663Z",
     "iopub.status.idle": "2024-07-12T03:28:21.817281Z",
     "shell.execute_reply": "2024-07-12T03:28:21.816402Z",
     "shell.execute_reply.started": "2024-07-12T03:28:21.812905Z"
    },
    "trusted": true
   },
   "outputs": [],
   "source": [
    "bee = np.load('bee.npy')\n",
    "nobee = np.load('no_bee.npy')\n",
    "noqueen = np.load('no_queen.npy')"
   ]
  },
  {
   "cell_type": "code",
   "execution_count": null,
   "metadata": {
    "execution": {
     "iopub.execute_input": "2024-07-12T03:28:21.820944Z",
     "iopub.status.busy": "2024-07-12T03:28:21.820346Z",
     "iopub.status.idle": "2024-07-12T03:28:21.828955Z",
     "shell.execute_reply": "2024-07-12T03:28:21.828149Z",
     "shell.execute_reply.started": "2024-07-12T03:28:21.820907Z"
    },
    "trusted": true
   },
   "outputs": [],
   "source": [
    "labels_bee = np.ones(len(bee)) * 1  \n",
    "labels_nobee = np.ones(len(nobee)) * 0  \n",
    "labels_noqueen = np.ones(len(noqueen)) * 2  "
   ]
  },
  {
   "cell_type": "code",
   "execution_count": null,
   "metadata": {
    "execution": {
     "iopub.execute_input": "2024-07-12T03:28:21.830241Z",
     "iopub.status.busy": "2024-07-12T03:28:21.829960Z",
     "iopub.status.idle": "2024-07-12T03:28:21.983772Z",
     "shell.execute_reply": "2024-07-12T03:28:21.982949Z",
     "shell.execute_reply.started": "2024-07-12T03:28:21.830218Z"
    },
    "trusted": true
   },
   "outputs": [],
   "source": [
    "data = np.concatenate((bee, nobee, noqueen), axis=0)\n",
    "labels = np.concatenate((labels_bee, labels_nobee, labels_noqueen), axis=0)\n",
    "\n",
    "df = pd.DataFrame({'data': list(data), 'labels': labels})\n",
    "df = df.sample(frac=1).reset_index(drop=True) "
   ]
  },
  {
   "cell_type": "code",
   "execution_count": null,
   "metadata": {
    "execution": {
     "iopub.execute_input": "2024-07-12T03:28:21.985223Z",
     "iopub.status.busy": "2024-07-12T03:28:21.984928Z",
     "iopub.status.idle": "2024-07-12T03:28:22.140313Z",
     "shell.execute_reply": "2024-07-12T03:28:22.139217Z",
     "shell.execute_reply.started": "2024-07-12T03:28:21.985198Z"
    },
    "trusted": true
   },
   "outputs": [],
   "source": [
    "train_df, test_df = train_test_split(df, test_size=0.2, random_state=42, stratify=df['labels'])\n",
    "train_df, val_df = train_test_split(train_df, test_size=0.15, random_state=42, stratify=train_df['labels'])\n",
    "\n",
    "x_train = np.array(train_df['data'].tolist())\n",
    "y_train = np.array(train_df['labels'].tolist())\n",
    "\n",
    "x_val = np.array(val_df['data'].tolist())\n",
    "y_val = np.array(val_df['labels'].tolist())\n",
    "\n",
    "x_test = np.array(test_df['data'].tolist())\n",
    "y_test = np.array(test_df['labels'].tolist())"
   ]
  },
  {
   "cell_type": "code",
   "execution_count": null,
   "metadata": {
    "execution": {
     "iopub.execute_input": "2024-07-12T03:28:22.141960Z",
     "iopub.status.busy": "2024-07-12T03:28:22.141665Z",
     "iopub.status.idle": "2024-07-12T03:28:22.146673Z",
     "shell.execute_reply": "2024-07-12T03:28:22.145742Z",
     "shell.execute_reply.started": "2024-07-12T03:28:22.141935Z"
    },
    "trusted": true
   },
   "outputs": [],
   "source": [
    "x_train = x_train[..., np.newaxis]\n",
    "x_val = x_val[..., np.newaxis]\n",
    "x_test = x_test[..., np.newaxis]"
   ]
  },
  {
   "cell_type": "code",
   "execution_count": null,
   "metadata": {
    "execution": {
     "iopub.execute_input": "2024-07-12T03:28:22.160257Z",
     "iopub.status.busy": "2024-07-12T03:28:22.159882Z",
     "iopub.status.idle": "2024-07-12T03:28:22.168401Z",
     "shell.execute_reply": "2024-07-12T03:28:22.167557Z",
     "shell.execute_reply.started": "2024-07-12T03:28:22.160226Z"
    },
    "trusted": true
   },
   "outputs": [],
   "source": [
    "class BeeDataset(Dataset):\n",
    "    def __init__(self, images, labels, transform=None):\n",
    "        self.images = images\n",
    "        self.labels = labels\n",
    "        self.transform = transform\n",
    "\n",
    "    def __len__(self):\n",
    "        return len(self.images)\n",
    "\n",
    "    def __getitem__(self, idx):\n",
    "        image = self.images[idx]\n",
    "        label = self.labels[idx]\n",
    "        if self.transform:\n",
    "            image = self.transform(image)\n",
    "        return image, label"
   ]
  },
  {
   "cell_type": "code",
   "execution_count": null,
   "metadata": {
    "execution": {
     "iopub.execute_input": "2024-07-12T03:28:22.169736Z",
     "iopub.status.busy": "2024-07-12T03:28:22.169376Z",
     "iopub.status.idle": "2024-07-12T03:28:22.181611Z",
     "shell.execute_reply": "2024-07-12T03:28:22.180757Z",
     "shell.execute_reply.started": "2024-07-12T03:28:22.169712Z"
    },
    "trusted": true
   },
   "outputs": [],
   "source": [
    "transform = transforms.Compose([\n",
    "    transforms.ToTensor()\n",
    "])"
   ]
  },
  {
   "cell_type": "code",
   "execution_count": null,
   "metadata": {
    "execution": {
     "iopub.execute_input": "2024-07-12T03:28:22.183197Z",
     "iopub.status.busy": "2024-07-12T03:28:22.182938Z",
     "iopub.status.idle": "2024-07-12T03:28:22.192070Z",
     "shell.execute_reply": "2024-07-12T03:28:22.191196Z",
     "shell.execute_reply.started": "2024-07-12T03:28:22.183175Z"
    },
    "trusted": true
   },
   "outputs": [],
   "source": [
    "train_dataset = BeeDataset(x_train, y_train, transform=transform)\n",
    "val_dataset = BeeDataset(x_val, y_val, transform=transform)\n",
    "test_dataset = BeeDataset(x_test, y_test, transform=transform)"
   ]
  },
  {
   "cell_type": "code",
   "execution_count": null,
   "metadata": {
    "execution": {
     "iopub.execute_input": "2024-07-12T03:28:22.193638Z",
     "iopub.status.busy": "2024-07-12T03:28:22.193245Z",
     "iopub.status.idle": "2024-07-12T03:28:22.203571Z",
     "shell.execute_reply": "2024-07-12T03:28:22.202781Z",
     "shell.execute_reply.started": "2024-07-12T03:28:22.193608Z"
    },
    "trusted": true
   },
   "outputs": [],
   "source": [
    "batch_size_ = 512\n",
    "\n",
    "train_dataloader = DataLoader(train_dataset, batch_size= batch_size_, shuffle=True)\n",
    "val_dataloader = DataLoader(val_dataset, batch_size= batch_size_, shuffle=False)\n",
    "test_dataloader = DataLoader(test_dataset, batch_size= batch_size_, shuffle=False)"
   ]
  },
  {
   "cell_type": "code",
   "execution_count": null,
   "metadata": {
    "execution": {
     "iopub.execute_input": "2024-07-12T03:28:22.207858Z",
     "iopub.status.busy": "2024-07-12T03:28:22.207614Z",
     "iopub.status.idle": "2024-07-12T03:28:22.216427Z",
     "shell.execute_reply": "2024-07-12T03:28:22.215610Z",
     "shell.execute_reply.started": "2024-07-12T03:28:22.207837Z"
    },
    "trusted": true
   },
   "outputs": [],
   "source": [
    "device = torch.device(\"cuda:0\" if torch.cuda.is_available() else \"cpu\")\n",
    "device"
   ]
  },
  {
   "cell_type": "code",
   "execution_count": null,
   "metadata": {
    "execution": {
     "iopub.execute_input": "2024-07-12T03:28:22.217762Z",
     "iopub.status.busy": "2024-07-12T03:28:22.217497Z",
     "iopub.status.idle": "2024-07-12T03:28:22.225148Z",
     "shell.execute_reply": "2024-07-12T03:28:22.224425Z",
     "shell.execute_reply.started": "2024-07-12T03:28:22.217739Z"
    },
    "trusted": true
   },
   "outputs": [],
   "source": [
    "seed = 42\n",
    "torch.cuda.manual_seed(seed)\n",
    "torch.cuda.manual_seed_all(seed)\n",
    "torch.backends.cudnn.deterministic = True\n",
    "torch.backends.cudnn.benchmark = False"
   ]
  },
  {
   "cell_type": "code",
   "execution_count": null,
   "metadata": {
    "execution": {
     "iopub.execute_input": "2024-07-12T03:28:22.237896Z",
     "iopub.status.busy": "2024-07-12T03:28:22.237329Z",
     "iopub.status.idle": "2024-07-12T03:28:22.695906Z",
     "shell.execute_reply": "2024-07-12T03:28:22.695107Z",
     "shell.execute_reply.started": "2024-07-12T03:28:22.237864Z"
    },
    "trusted": true
   },
   "outputs": [],
   "source": [
    "from timm import create_model\n",
    "\n",
    "model = create_model('vit_tiny_patch16_224', pretrained=False, num_classes=3)\n",
    "\n",
    "model.patch_embed.proj = nn.Conv2d(1, model.patch_embed.proj.out_channels, \n",
    "                                   kernel_size=model.patch_embed.proj.kernel_size, \n",
    "                                   stride=model.patch_embed.proj.stride, \n",
    "                                   padding=model.patch_embed.proj.padding)\n",
    "\n",
    "model = model.to(device)\n",
    "\n",
    "criterion = nn.CrossEntropyLoss()\n",
    "optimizer = optim.Adam(model.parameters(), lr=0.0001)"
   ]
  },
  {
   "cell_type": "code",
   "execution_count": null,
   "metadata": {
    "execution": {
     "iopub.execute_input": "2024-07-12T03:28:22.697538Z",
     "iopub.status.busy": "2024-07-12T03:28:22.697210Z",
     "iopub.status.idle": "2024-07-12T03:38:39.610769Z",
     "shell.execute_reply": "2024-07-12T03:38:39.609844Z",
     "shell.execute_reply.started": "2024-07-12T03:28:22.697512Z"
    },
    "trusted": true
   },
   "outputs": [],
   "source": [
    "# Training and validation loop\n",
    "num_epochs = 50\n",
    "train_accs = []\n",
    "val_accs = []\n",
    "train_losses = []\n",
    "val_losses = []\n",
    "best_val_accuracy = 0\n",
    "best_val_loss = float('inf')\n",
    "\n",
    "for epoch in range(num_epochs):\n",
    "    # Training\n",
    "    model.train()\n",
    "    train_loss = 0.0\n",
    "    train_corrects = 0\n",
    "\n",
    "    for train_images, train_labels in tqdm(train_dataloader, desc=f\"Epoch {epoch+1}\"):\n",
    "        train_images = train_images.to(device)\n",
    "        train_labels = train_labels.long().to(device)\n",
    "        \n",
    "        optimizer.zero_grad()\n",
    "\n",
    "        outputs = model(train_images)\n",
    "        _, preds = torch.max(outputs, 1)\n",
    "        loss = criterion(outputs, train_labels)\n",
    "        \n",
    "        loss.backward()\n",
    "        optimizer.step()\n",
    "\n",
    "        train_loss += loss.item() * train_images.size(0)\n",
    "        train_corrects += torch.sum(preds == train_labels.data)\n",
    "\n",
    "    train_loss /= len(train_dataloader.dataset)\n",
    "    train_acc = train_corrects.double() / len(train_dataloader.dataset)\n",
    "    train_losses.append(train_loss)\n",
    "    train_accs.append(train_acc)\n",
    "\n",
    "    # Validation\n",
    "    model.eval()\n",
    "    val_loss = 0.0\n",
    "    val_corrects = 0\n",
    "    with torch.no_grad():\n",
    "        for val_images, val_labels in tqdm(val_dataloader, desc=f\"Epoch {epoch+1} Validation\"):\n",
    "            val_images = val_images.to(device)\n",
    "            val_labels = val_labels.long().to(device)\n",
    "            \n",
    "            val_outputs = model(val_images)\n",
    "            _, preds = torch.max(val_outputs, 1)\n",
    "            loss = criterion(val_outputs, val_labels)\n",
    "            \n",
    "            val_loss += loss.item() * val_images.size(0)\n",
    "            val_corrects += torch.sum(preds == val_labels.data)\n",
    "\n",
    "    val_loss /= len(val_dataloader.dataset)\n",
    "    val_acc = val_corrects.double() / len(val_dataloader.dataset)\n",
    "    val_losses.append(val_loss)\n",
    "    val_accs.append(val_acc)\n",
    "\n",
    "    print(f\"Epoch {epoch+1}, Train Loss: {train_loss:.4f}, Train Acc: {train_acc:.4f}, Val Loss: {val_loss:.4f}, Val Acc: {val_acc:.4f}\")\n",
    "\n",
    "   \n",
    "    if val_loss < best_val_loss:\n",
    "        best_val_loss = val_loss\n",
    "        torch.save(model.state_dict(), 'best_model.pth')"
   ]
  },
  {
   "cell_type": "code",
   "execution_count": null,
   "metadata": {
    "execution": {
     "iopub.execute_input": "2024-07-12T03:38:39.612401Z",
     "iopub.status.busy": "2024-07-12T03:38:39.612087Z",
     "iopub.status.idle": "2024-07-12T03:38:40.524236Z",
     "shell.execute_reply": "2024-07-12T03:38:40.523341Z",
     "shell.execute_reply.started": "2024-07-12T03:38:39.612370Z"
    },
    "trusted": true
   },
   "outputs": [],
   "source": [
    "# Load the best model\n",
    "best_model = model\n",
    "best_model.load_state_dict(torch.load('best_model.pth'))\n",
    "\n",
    "# Predict on the test set\n",
    "best_model.eval()\n",
    "test_predictions = []\n",
    "true_labels = []\n",
    "with torch.no_grad():\n",
    "    for test_images, test_labels in tqdm(test_dataloader, desc=\"Test Set\"):\n",
    "        test_images = test_images.to(device)\n",
    "        test_labels = test_labels.long().to(device)\n",
    "            \n",
    "        \n",
    "        outputs = best_model(test_images)\n",
    "        _, preds = torch.max(outputs, 1)\n",
    "        \n",
    "        test_predictions.extend(preds.cpu().numpy())\n",
    "        true_labels.extend(test_labels.cpu().numpy())\n",
    "\n",
    "# Evaluate the model on the test set\n",
    "num_correct = sum([1 for i in range(len(test_predictions)) if test_predictions[i] == true_labels[i]])\n",
    "test_accuracy = num_correct / len(test_predictions)\n",
    "\n",
    "print(f'Test Accuracy: {test_accuracy * 100:.2f}%')"
   ]
  }
 ],
 "metadata": {
  "kaggle": {
   "accelerator": "gpu",
   "dataSources": [
    {
     "datasetId": 5342322,
     "sourceId": 8875078,
     "sourceType": "datasetVersion"
    },
    {
     "datasetId": 5375037,
     "sourceId": 8934383,
     "sourceType": "datasetVersion"
    }
   ],
   "dockerImageVersionId": 30733,
   "isGpuEnabled": true,
   "isInternetEnabled": true,
   "language": "python",
   "sourceType": "notebook"
  },
  "kernelspec": {
   "display_name": "Python 3",
   "language": "python",
   "name": "python3"
  },
  "language_info": {
   "codemirror_mode": {
    "name": "ipython",
    "version": 3
   },
   "file_extension": ".py",
   "mimetype": "text/x-python",
   "name": "python",
   "nbconvert_exporter": "python",
   "pygments_lexer": "ipython3",
   "version": "3.10.13"
  }
 },
 "nbformat": 4,
 "nbformat_minor": 4
}
