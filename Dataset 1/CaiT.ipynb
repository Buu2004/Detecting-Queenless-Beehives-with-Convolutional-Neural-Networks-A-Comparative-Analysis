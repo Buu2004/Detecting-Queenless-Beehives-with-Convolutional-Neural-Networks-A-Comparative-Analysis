{
 "cells": [
  {
   "cell_type": "markdown",
   "metadata": {},
   "source": [
    "# Import lib"
   ]
  },
  {
   "cell_type": "code",
   "execution_count": null,
   "metadata": {
    "_cell_guid": "b1076dfc-b9ad-4769-8c92-a6c4dae69d19",
    "_uuid": "8f2839f25d086af736a60e9eeb907d3b93b6e0e5",
    "execution": {
     "iopub.execute_input": "2025-01-06T13:52:26.184345Z",
     "iopub.status.busy": "2025-01-06T13:52:26.183971Z",
     "iopub.status.idle": "2025-01-06T13:52:26.190222Z",
     "shell.execute_reply": "2025-01-06T13:52:26.189221Z",
     "shell.execute_reply.started": "2025-01-06T13:52:26.184318Z"
    },
    "trusted": true
   },
   "outputs": [],
   "source": [
    "import numpy as np\n",
    "import timm\n",
    "import torch\n",
    "import seaborn as sns\n",
    "from torchvision import transforms\n",
    "from torch.utils.data import DataLoader, Dataset\n",
    "from torch import nn, optim\n",
    "from tqdm import tqdm\n",
    "from sklearn.metrics import confusion_matrix, f1_score\n",
    "import matplotlib.pyplot as plt"
   ]
  },
  {
   "cell_type": "markdown",
   "metadata": {},
   "source": [
    "# ----------------------------------------------------------"
   ]
  },
  {
   "cell_type": "markdown",
   "metadata": {},
   "source": [
    "# Class"
   ]
  },
  {
   "cell_type": "code",
   "execution_count": null,
   "metadata": {
    "execution": {
     "iopub.execute_input": "2025-01-06T13:52:26.192027Z",
     "iopub.status.busy": "2025-01-06T13:52:26.191751Z",
     "iopub.status.idle": "2025-01-06T13:52:26.211273Z",
     "shell.execute_reply": "2025-01-06T13:52:26.210307Z",
     "shell.execute_reply.started": "2025-01-06T13:52:26.192007Z"
    },
    "trusted": true
   },
   "outputs": [],
   "source": [
    "class Image_(Dataset):\n",
    "    def __init__(self, images, labels, transform):\n",
    "        self.images = images\n",
    "        self.labels = labels\n",
    "        self.transform = transform\n",
    "\n",
    "    def __len__(self):\n",
    "        return len(self.images)\n",
    "\n",
    "    def __getitem__(self, idx):\n",
    "        image = self.images[idx]\n",
    "        label = self.labels[idx]\n",
    "        if self.transform:\n",
    "            image = self.transform(image)\n",
    "        return image, label"
   ]
  },
  {
   "cell_type": "code",
   "execution_count": null,
   "metadata": {
    "execution": {
     "iopub.execute_input": "2025-01-06T13:52:26.213083Z",
     "iopub.status.busy": "2025-01-06T13:52:26.212822Z",
     "iopub.status.idle": "2025-01-06T13:52:26.224237Z",
     "shell.execute_reply": "2025-01-06T13:52:26.223416Z",
     "shell.execute_reply.started": "2025-01-06T13:52:26.213061Z"
    },
    "trusted": true
   },
   "outputs": [],
   "source": [
    "transform = transforms.Compose([\n",
    "    transforms.ToPILImage(),  \n",
    "    transforms.Resize((224, 224)), \n",
    "    transforms.ToTensor()\n",
    "])"
   ]
  },
  {
   "cell_type": "markdown",
   "metadata": {},
   "source": [
    "# ----------------------------------------------------------"
   ]
  },
  {
   "cell_type": "markdown",
   "metadata": {},
   "source": [
    "# Data"
   ]
  },
  {
   "cell_type": "code",
   "execution_count": null,
   "metadata": {
    "execution": {
     "iopub.execute_input": "2025-01-06T13:52:26.240554Z",
     "iopub.status.busy": "2025-01-06T13:52:26.239893Z",
     "iopub.status.idle": "2025-01-06T13:52:26.490304Z",
     "shell.execute_reply": "2025-01-06T13:52:26.489513Z",
     "shell.execute_reply.started": "2025-01-06T13:52:26.240526Z"
    },
    "trusted": true
   },
   "outputs": [],
   "source": [
    "train_queen = np.load('mfcc_queen_train.npy')\n",
    "train_nonqueen = np.load('mfcc_NonQueen_train.npy')\n",
    "\n",
    "val_queen = np.load('mfcc_queen_val.npy')\n",
    "val_nonqueen = np.load('mfcc_NonQueen_val.npy')\n",
    "\n",
    "test_queen = np.load('mfcc_queen_test.npy')\n",
    "test_nonqueen = np.load('mfcc_nonqueen_test.npy')"
   ]
  },
  {
   "cell_type": "code",
   "execution_count": null,
   "metadata": {
    "execution": {
     "iopub.execute_input": "2025-01-06T13:52:26.491719Z",
     "iopub.status.busy": "2025-01-06T13:52:26.491375Z",
     "iopub.status.idle": "2025-01-06T13:52:26.699322Z",
     "shell.execute_reply": "2025-01-06T13:52:26.698607Z",
     "shell.execute_reply.started": "2025-01-06T13:52:26.491690Z"
    },
    "trusted": true
   },
   "outputs": [],
   "source": [
    "x_train = np.vstack((train_queen, train_nonqueen))\n",
    "ones = np.ones(len(train_queen))\n",
    "zeros = np.zeros(len(train_nonqueen))\n",
    "y_train = np.concatenate((ones, zeros))\n",
    "\n",
    "x_val = np.vstack((val_queen, val_nonqueen))\n",
    "ones = np.ones(len(val_queen))\n",
    "zeros = np.zeros(len(val_nonqueen))\n",
    "y_val = np.concatenate((ones, zeros))\n",
    "\n",
    "x_test = np.vstack((test_queen, test_nonqueen))\n",
    "ones = np.ones(len(test_queen))\n",
    "zeros = np.zeros(len(test_nonqueen))\n",
    "y_test = np.concatenate((ones, zeros))"
   ]
  },
  {
   "cell_type": "markdown",
   "metadata": {},
   "source": [
    "# ----------------------------------------------------------"
   ]
  },
  {
   "cell_type": "markdown",
   "metadata": {},
   "source": [
    "# Pre-train"
   ]
  },
  {
   "cell_type": "code",
   "execution_count": null,
   "metadata": {
    "execution": {
     "iopub.execute_input": "2025-01-06T13:52:26.700486Z",
     "iopub.status.busy": "2025-01-06T13:52:26.700238Z",
     "iopub.status.idle": "2025-01-06T13:52:26.705843Z",
     "shell.execute_reply": "2025-01-06T13:52:26.705051Z",
     "shell.execute_reply.started": "2025-01-06T13:52:26.700443Z"
    },
    "trusted": true
   },
   "outputs": [],
   "source": [
    "device = torch.device(\"cuda:0\" if torch.cuda.is_available() else \"cpu\")\n",
    "device"
   ]
  },
  {
   "cell_type": "code",
   "execution_count": null,
   "metadata": {
    "execution": {
     "iopub.execute_input": "2025-01-06T13:52:26.707102Z",
     "iopub.status.busy": "2025-01-06T13:52:26.706860Z",
     "iopub.status.idle": "2025-01-06T13:52:26.717675Z",
     "shell.execute_reply": "2025-01-06T13:52:26.716841Z",
     "shell.execute_reply.started": "2025-01-06T13:52:26.707083Z"
    },
    "trusted": true
   },
   "outputs": [],
   "source": [
    "seed = 42\n",
    "torch.cuda.manual_seed(seed)\n",
    "torch.cuda.manual_seed_all(seed)\n",
    "\n",
    "torch.backends.cudnn.deterministic = True\n",
    "torch.backends.cudnn.benchmark = False"
   ]
  },
  {
   "cell_type": "code",
   "execution_count": null,
   "metadata": {
    "execution": {
     "iopub.execute_input": "2025-01-06T13:52:26.718810Z",
     "iopub.status.busy": "2025-01-06T13:52:26.718586Z",
     "iopub.status.idle": "2025-01-06T13:52:26.730541Z",
     "shell.execute_reply": "2025-01-06T13:52:26.729716Z",
     "shell.execute_reply.started": "2025-01-06T13:52:26.718792Z"
    },
    "trusted": true
   },
   "outputs": [],
   "source": [
    "train_set = Image_(x_train, y_train, transform=transform)\n",
    "val_set = Image_(x_val, y_val, transform=transform)\n",
    "test_set = Image_(x_test, y_test,  transform=transform)\n",
    "\n",
    "train_dataloader = DataLoader(train_set, batch_size=64, shuffle=True) \n",
    "val_dataloader = DataLoader(val_set, batch_size=64, shuffle=False)\n",
    "test_dataloader = DataLoader(test_set, batch_size=64, shuffle=False)"
   ]
  },
  {
   "cell_type": "code",
   "execution_count": null,
   "metadata": {
    "execution": {
     "iopub.execute_input": "2025-01-06T13:52:26.731836Z",
     "iopub.status.busy": "2025-01-06T13:52:26.731587Z",
     "iopub.status.idle": "2025-01-06T13:52:27.222658Z",
     "shell.execute_reply": "2025-01-06T13:52:27.221783Z",
     "shell.execute_reply.started": "2025-01-06T13:52:26.731809Z"
    },
    "trusted": true
   },
   "outputs": [],
   "source": [
    "model = timm.create_model('cait_xxs36_224', pretrained=True)"
   ]
  },
  {
   "cell_type": "code",
   "execution_count": null,
   "metadata": {
    "execution": {
     "iopub.execute_input": "2025-01-06T13:52:27.224861Z",
     "iopub.status.busy": "2025-01-06T13:52:27.224612Z",
     "iopub.status.idle": "2025-01-06T13:52:27.572749Z",
     "shell.execute_reply": "2025-01-06T13:52:27.571803Z",
     "shell.execute_reply.started": "2025-01-06T13:52:27.224842Z"
    },
    "trusted": true
   },
   "outputs": [],
   "source": [
    "use_bias = model.patch_embed.proj.bias is not None\n",
    "\n",
    "model.patch_embed.proj = nn.Conv2d(\n",
    "    in_channels=1,  \n",
    "    out_channels=model.patch_embed.proj.out_channels,\n",
    "    kernel_size=model.patch_embed.proj.kernel_size,\n",
    "    stride=model.patch_embed.proj.stride,\n",
    "    padding=model.patch_embed.proj.padding,\n",
    "    bias=use_bias  \n",
    ")\n",
    "\n",
    "\n",
    "model.head = nn.Linear(model.head.in_features, 2)\n",
    "\n",
    "device = torch.device('cuda' if torch.cuda.is_available() else 'cpu')\n",
    "model = model.to(device)\n",
    "\n",
    "\n",
    "# pretrain_path = 'STFT_best_model_cait_turn_2.pth'\n",
    "# state_dict = torch.load(pretrain_path, map_location=device)\n",
    "# new_state_dict = {}\n",
    "# for key, value in state_dict.items():\n",
    "#     new_key = key.replace(\"module.\", \"\")  # Remove 'module.' prefix if it exists\n",
    "#     new_state_dict[new_key] = value\n",
    "\n",
    "# model.load_state_dict(new_state_dict)\n",
    "# print(f\"Pre-trained weights loaded from {pretrain_path}\")\n",
    "\n",
    "if torch.cuda.device_count() > 1:\n",
    "    print(\"Sử dụng\", torch.cuda.device_count(), \"GPUs!\")\n",
    "    model = nn.DataParallel(model)\n"
   ]
  },
  {
   "cell_type": "code",
   "execution_count": null,
   "metadata": {
    "execution": {
     "iopub.execute_input": "2025-01-06T13:52:27.573959Z",
     "iopub.status.busy": "2025-01-06T13:52:27.573704Z",
     "iopub.status.idle": "2025-01-06T13:52:27.580639Z",
     "shell.execute_reply": "2025-01-06T13:52:27.579710Z",
     "shell.execute_reply.started": "2025-01-06T13:52:27.573939Z"
    },
    "trusted": true
   },
   "outputs": [],
   "source": [
    "criterion = nn.CrossEntropyLoss()\n",
    "optimizer = optim.Adam(model.parameters(), lr=0.0001)"
   ]
  },
  {
   "cell_type": "code",
   "execution_count": null,
   "metadata": {
    "execution": {
     "iopub.execute_input": "2025-01-06T13:52:27.582238Z",
     "iopub.status.busy": "2025-01-06T13:52:27.581954Z"
    },
    "trusted": true
   },
   "outputs": [],
   "source": [
    "num_epochs = 100\n",
    "patience = 20\n",
    "best_val_loss = float('inf')\n",
    "early_stop_counter = 0\n",
    "\n",
    "best_model_wts = model.state_dict()\n",
    "\n",
    "for epoch in range(num_epochs):\n",
    "    model.train()\n",
    "    train_loss = 0.0\n",
    "    train_corrects = 0\n",
    "\n",
    "    for train_images, train_labels in tqdm(train_dataloader, desc=f\"Epoch {epoch+1}\"):\n",
    "        train_images = train_images.to(device)\n",
    "        train_labels = train_labels.long().to(device)\n",
    "\n",
    "        optimizer.zero_grad()\n",
    "\n",
    "        outputs = model(train_images)\n",
    "        loss = criterion(outputs, train_labels)\n",
    "\n",
    "        loss.backward()\n",
    "        optimizer.step()\n",
    "\n",
    "        train_loss += loss.item() * train_images.size(0)\n",
    "        preds = torch.argmax(outputs, dim=1)\n",
    "        train_corrects += torch.sum(preds == train_labels)\n",
    "\n",
    "    \n",
    "    train_loss /= len(train_dataloader.dataset)\n",
    "    train_acc = train_corrects.double() / len(train_dataloader.dataset)\n",
    "\n",
    "    model.eval()\n",
    "    val_loss = 0.0\n",
    "    val_corrects = 0\n",
    "\n",
    "    with torch.no_grad():\n",
    "        for val_images, val_labels in tqdm(val_dataloader, desc=f\"Epoch {epoch+1} Validation\"):\n",
    "            val_images = val_images.to(device)\n",
    "            val_labels = val_labels.long().to(device)\n",
    "\n",
    "            val_outputs = model(val_images)\n",
    "            loss = criterion(val_outputs, val_labels)\n",
    "\n",
    "            val_loss += loss.item() * val_images.size(0)\n",
    "            preds = torch.argmax(val_outputs, dim=1)\n",
    "            val_corrects += torch.sum(preds == val_labels)\n",
    "\n",
    "\n",
    "    val_loss /= len(val_dataloader.dataset)\n",
    "    val_acc = val_corrects.double() / len(val_dataloader.dataset)\n",
    "\n",
    "    print(f\"Epoch {epoch+1}, Train Loss: {train_loss:.4f}, Train Acc: {train_acc:.4f}, \"\n",
    "          f\"Val Loss: {val_loss:.4f}, Val Acc: {val_acc:.4f}\")\n",
    "\n",
    "\n",
    "    if val_loss < best_val_loss:\n",
    "        best_val_loss = val_loss\n",
    "        torch.save(model.state_dict(), 'MFCC_best_model_cait_turn_1.pth')\n",
    "        best_model_wts = model.state_dict()\n",
    "        early_stop_counter = 0  \n",
    "    else:\n",
    "        early_stop_counter += 1\n",
    "        if early_stop_counter >= patience:\n",
    "            print(\"Early stopping triggered.\")\n",
    "            model.load_state_dict(best_model_wts)  \n",
    "            break\n"
   ]
  },
  {
   "cell_type": "code",
   "execution_count": null,
   "metadata": {
    "trusted": true
   },
   "outputs": [],
   "source": [
    "best_model = model\n",
    "best_model.load_state_dict(torch.load('MFCC_best_model_cait_turn_1.pth'))\n",
    "\n",
    "\n",
    "best_model.eval()\n",
    "test_predictions = []\n",
    "true_labels = []\n",
    "with torch.no_grad():\n",
    "    for test_images, test_labels in tqdm(test_dataloader, desc=\"Test Set\"):\n",
    "        test_images = test_images.to(device)\n",
    "        test_labels = test_labels.long().to(device)\n",
    "        \n",
    "        outputs = best_model(test_images)\n",
    "        _, preds = torch.max(outputs, 1)\n",
    "        \n",
    "        test_predictions.extend(preds.cpu().numpy())\n",
    "        true_labels.extend(test_labels.cpu().numpy())\n",
    "\n",
    "\n",
    "num_correct = sum([1 for i in range(len(test_predictions)) if test_predictions[i] == true_labels[i]])\n",
    "test_accuracy = num_correct / len(test_predictions)\n",
    "\n",
    "print(f'Test Accuracy: {test_accuracy * 100:.2f}%')\n",
    "\n",
    "\n",
    "cm = confusion_matrix(true_labels, test_predictions)\n",
    "print(f'Confusion Matrix:\\n{cm}')\n",
    "\n",
    "\n",
    "f1 = f1_score(true_labels, test_predictions, average='macro')  \n",
    "print(f'F1 Score (Macro): {f1:.2f}')\n",
    "\n",
    "plt.figure(figsize=(8, 6))\n",
    "sns.heatmap(cm, annot=True, fmt=\"d\", cmap=\"Blues\", xticklabels=[str(i) for i in range(len(cm))], yticklabels=[str(i) for i in range(len(cm))])\n",
    "plt.xlabel('Predicted Labels')\n",
    "plt.ylabel('True Labels')\n",
    "plt.title('Confusion Matrix')\n",
    "plt.show()"
   ]
  },
  {
   "cell_type": "code",
   "execution_count": null,
   "metadata": {
    "trusted": true
   },
   "outputs": [],
   "source": []
  },
  {
   "cell_type": "code",
   "execution_count": null,
   "metadata": {
    "trusted": true
   },
   "outputs": [],
   "source": []
  }
 ],
 "metadata": {
  "kaggle": {
   "accelerator": "nvidiaTeslaT4",
   "dataSources": [
    {
     "datasetId": 5066662,
     "sourceId": 8492225,
     "sourceType": "datasetVersion"
    },
    {
     "datasetId": 6434332,
     "sourceId": 10386253,
     "sourceType": "datasetVersion"
    }
   ],
   "dockerImageVersionId": 30699,
   "isGpuEnabled": true,
   "isInternetEnabled": true,
   "language": "python",
   "sourceType": "notebook"
  },
  "kernelspec": {
   "display_name": "Python 3",
   "language": "python",
   "name": "python3"
  },
  "language_info": {
   "codemirror_mode": {
    "name": "ipython",
    "version": 3
   },
   "file_extension": ".py",
   "mimetype": "text/x-python",
   "name": "python",
   "nbconvert_exporter": "python",
   "pygments_lexer": "ipython3",
   "version": "3.10.13"
  }
 },
 "nbformat": 4,
 "nbformat_minor": 4
}
